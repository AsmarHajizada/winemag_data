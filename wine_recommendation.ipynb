{
 "cells": [
  {
   "cell_type": "markdown",
   "metadata": {},
   "source": [
    "## Wine recommendation using Cosine Similarity and TF-IDF analysis outcome"
   ]
  },
  {
   "cell_type": "code",
   "execution_count": 36,
   "metadata": {},
   "outputs": [],
   "source": [
    "# import libraries\n",
    "import pandas as pd\n",
    "from sklearn.feature_extraction.text import TfidfVectorizer, TfidfTransformer, CountVectorizer\n",
    "from sklearn.metrics.pairwise import linear_kernel"
   ]
  },
  {
   "cell_type": "code",
   "execution_count": 34,
   "metadata": {},
   "outputs": [
    {
     "name": "stdout",
     "output_type": "stream",
     "text": [
      "<class 'pandas.core.frame.DataFrame'>\n",
      "Int64Index: 129971 entries, 0 to 129970\n",
      "Data columns (total 13 columns):\n",
      " #   Column                 Non-Null Count   Dtype  \n",
      "---  ------                 --------------   -----  \n",
      " 0   country                129908 non-null  object \n",
      " 1   description            129971 non-null  object \n",
      " 2   designation            92506 non-null   object \n",
      " 3   points                 129971 non-null  int64  \n",
      " 4   price                  120975 non-null  float64\n",
      " 5   province               129908 non-null  object \n",
      " 6   region_1               108724 non-null  object \n",
      " 7   region_2               50511 non-null   object \n",
      " 8   taster_name            103727 non-null  object \n",
      " 9   taster_twitter_handle  98758 non-null   object \n",
      " 10  title                  129971 non-null  object \n",
      " 11  variety                129970 non-null  object \n",
      " 12  winery                 129971 non-null  object \n",
      "dtypes: float64(1), int64(1), object(11)\n",
      "memory usage: 13.9+ MB\n"
     ]
    }
   ],
   "source": [
    "# load the data \n",
    "df = pd.read_csv('../winemag-data-130k-v2.csv', index_col=0)\n",
    "df.info()"
   ]
  },
  {
   "cell_type": "code",
   "execution_count": 35,
   "metadata": {},
   "outputs": [],
   "source": [
    "df = df[['variety', 'description']]"
   ]
  },
  {
   "cell_type": "code",
   "execution_count": 37,
   "metadata": {},
   "outputs": [],
   "source": [
    "# drop rows with missing values and duplicates\n",
    "df.dropna(inplace=True)\n",
    "df.drop_duplicates(inplace=True)"
   ]
  },
  {
   "cell_type": "code",
   "execution_count": 38,
   "metadata": {},
   "outputs": [
    {
     "data": {
      "text/plain": [
       "(119964, 2)"
      ]
     },
     "execution_count": 38,
     "metadata": {},
     "output_type": "execute_result"
    }
   ],
   "source": [
    "df.shape"
   ]
  },
  {
   "cell_type": "code",
   "execution_count": 39,
   "metadata": {},
   "outputs": [],
   "source": [
    "# how many varieties\n",
    "varieties = df['variety'].value_counts()[df['variety'].unique()]"
   ]
  },
  {
   "cell_type": "code",
   "execution_count": null,
   "metadata": {},
   "outputs": [],
   "source": [
    "description_by_variety=df.set_index(\"variety\")"
   ]
  },
  {
   "cell_type": "code",
   "execution_count": 45,
   "metadata": {},
   "outputs": [],
   "source": [
    "new_df=pd.DataFrame(columns=[\"variety\", \"description\"]) # create a new dataframe to store the description of each variety"
   ]
  },
  {
   "cell_type": "code",
   "execution_count": 46,
   "metadata": {},
   "outputs": [],
   "source": [
    "cv = CountVectorizer(stop_words='english', ngram_range=(2, 2)) # ngram_range=(2, 2) for bigrams, to get only the most common words\n",
    "tfidf_transformer=TfidfTransformer(smooth_idf=True, use_idf=True) # smooth_idf=True to avoid division by zero\n",
    "\n",
    "for wine in varieties.index:\n",
    "    df = description_by_variety.loc[[wine]] \n",
    "\n",
    "    # generating word counts for the words in the description of each variety\n",
    "    word_count_vector=cv.fit_transform(df['description'])\n",
    "\n",
    "    # generating tf-idf for the words in the description of each variety\n",
    "    tfidf_transformer.fit_transform(word_count_vector)\n",
    "\n",
    "    # top 100 common words (low IDF values) used in the reviews\n",
    "    df_idf = pd.DataFrame(tfidf_transformer.idf_, index=cv.get_feature_names_out(),columns=[\"idf_weights\"])\n",
    "    df_idf.sort_values(by=['idf_weights'], ascending=True, inplace=True)\n",
    "    common100 = df_idf.iloc[:100, :]\n",
    "\n",
    "    # create a dataframe with varieties that have the most common words in their description\n",
    "    common100 = common100.reset_index()\n",
    "    common100 = common100['index'].str.cat(sep=', ')\n",
    "    # using pandas.concat() instead of append() since append() will be deprecated in the future\n",
    "    new_df = pd.concat([new_df, pd.DataFrame({'variety': wine, 'description': common100}, index=[0])], ignore_index=True)"
   ]
  },
  {
   "cell_type": "code",
   "execution_count": 47,
   "metadata": {},
   "outputs": [
    {
     "data": {
      "text/html": [
       "<div>\n",
       "<style scoped>\n",
       "    .dataframe tbody tr th:only-of-type {\n",
       "        vertical-align: middle;\n",
       "    }\n",
       "\n",
       "    .dataframe tbody tr th {\n",
       "        vertical-align: top;\n",
       "    }\n",
       "\n",
       "    .dataframe thead th {\n",
       "        text-align: right;\n",
       "    }\n",
       "</style>\n",
       "<table border=\"1\" class=\"dataframe\">\n",
       "  <thead>\n",
       "    <tr style=\"text-align: right;\">\n",
       "      <th></th>\n",
       "      <th>variety</th>\n",
       "      <th>description</th>\n",
       "    </tr>\n",
       "  </thead>\n",
       "  <tbody>\n",
       "    <tr>\n",
       "      <th>0</th>\n",
       "      <td>White Blend</td>\n",
       "      <td>sauvignon blanc, stone fruit, palate offers, t...</td>\n",
       "    </tr>\n",
       "    <tr>\n",
       "      <th>1</th>\n",
       "      <td>Portuguese Red</td>\n",
       "      <td>ready drink, black fruits, wood aging, berry f...</td>\n",
       "    </tr>\n",
       "    <tr>\n",
       "      <th>2</th>\n",
       "      <td>Pinot Gris</td>\n",
       "      <td>pinot gris, fruit flavors, pear fruit, apple p...</td>\n",
       "    </tr>\n",
       "    <tr>\n",
       "      <th>3</th>\n",
       "      <td>Riesling</td>\n",
       "      <td>dry riesling, lemon lime, stone fruit, fruit f...</td>\n",
       "    </tr>\n",
       "    <tr>\n",
       "      <th>4</th>\n",
       "      <td>Pinot Noir</td>\n",
       "      <td>pinot noir, black cherry, cherry fruit, fruit ...</td>\n",
       "    </tr>\n",
       "  </tbody>\n",
       "</table>\n",
       "</div>"
      ],
      "text/plain": [
       "          variety                                        description\n",
       "0     White Blend  sauvignon blanc, stone fruit, palate offers, t...\n",
       "1  Portuguese Red  ready drink, black fruits, wood aging, berry f...\n",
       "2      Pinot Gris  pinot gris, fruit flavors, pear fruit, apple p...\n",
       "3        Riesling  dry riesling, lemon lime, stone fruit, fruit f...\n",
       "4      Pinot Noir  pinot noir, black cherry, cherry fruit, fruit ..."
      ]
     },
     "execution_count": 47,
     "metadata": {},
     "output_type": "execute_result"
    }
   ],
   "source": [
    "new_df.head()"
   ]
  },
  {
   "cell_type": "code",
   "execution_count": 48,
   "metadata": {},
   "outputs": [
    {
     "data": {
      "text/plain": [
       "(707, 2)"
      ]
     },
     "execution_count": 48,
     "metadata": {},
     "output_type": "execute_result"
    }
   ],
   "source": [
    "new_df.shape"
   ]
  },
  {
   "cell_type": "code",
   "execution_count": 49,
   "metadata": {},
   "outputs": [
    {
     "data": {
      "text/plain": [
       "(707, 63183)"
      ]
     },
     "execution_count": 49,
     "metadata": {},
     "output_type": "execute_result"
    }
   ],
   "source": [
    "tfidf=TfidfVectorizer(stop_words=\"english\", ngram_range=(2,2)) # ngram_range=(2, 2) for bigrams, to get only the most common words\n",
    "tfidf_matrix=tfidf.fit_transform(new_df['description'])\n",
    "tfidf_matrix.shape "
   ]
  },
  {
   "cell_type": "code",
   "execution_count": 50,
   "metadata": {},
   "outputs": [],
   "source": [
    "# find cosine similarity\n",
    "cosine_similarities = linear_kernel(tfidf_matrix, tfidf_matrix)"
   ]
  },
  {
   "cell_type": "code",
   "execution_count": 53,
   "metadata": {},
   "outputs": [],
   "source": [
    "new_df.reset_index(inplace=True)"
   ]
  },
  {
   "cell_type": "code",
   "execution_count": 56,
   "metadata": {},
   "outputs": [],
   "source": [
    "# take varities as index and number of varieties as values\n",
    "indices = pd.Series(new_df.index, index=new_df['variety'])"
   ]
  },
  {
   "cell_type": "code",
   "execution_count": 57,
   "metadata": {},
   "outputs": [
    {
     "data": {
      "text/plain": [
       "variety\n",
       "White Blend                   0\n",
       "Portuguese Red                1\n",
       "Pinot Gris                    2\n",
       "Riesling                      3\n",
       "Pinot Noir                    4\n",
       "                           ... \n",
       "Pignolo                     702\n",
       "Caprettone                  703\n",
       "Ondenc                      704\n",
       "Athiri                      705\n",
       "Bobal-Cabernet Sauvignon    706\n",
       "Length: 707, dtype: int64"
      ]
     },
     "execution_count": 57,
     "metadata": {},
     "output_type": "execute_result"
    }
   ],
   "source": [
    "indices"
   ]
  },
  {
   "cell_type": "code",
   "execution_count": 60,
   "metadata": {},
   "outputs": [],
   "source": [
    "# Make a function that takes in the grape variety as an input and produces a DataFrame of three similar varieties and key words of their reviews\n",
    "def recommendations(variety, cosine_similarities=cosine_similarities):\n",
    "    similarity_scores = list(enumerate(cosine_similarities[indices[variety]]))\n",
    "    similarity_scores = sorted(similarity_scores, key=lambda x: x[1], reverse=True)\n",
    "    similarity_scores = similarity_scores[1:4]\n",
    "    variety_indices = [i[0] for i in similarity_scores]\n",
    "    \n",
    "    # create the output dataframe\n",
    "    output = pd.DataFrame(columns=['Similar wines found', 'Top 5 common words from reviews'])\n",
    "    for i in variety_indices:\n",
    "        variety = new_df.iloc[i]['variety']\n",
    "        description = new_df.iloc[i]['description']\n",
    "\n",
    "        if variety in varieties[varieties > 1].index: # I want to display the varieties that have more than 1 review for recommendation\n",
    "            split_description = description.split(', ')\n",
    "            top5 = split_description[:5]\n",
    "            top5 = ', '.join(top5)\n",
    "        else:\n",
    "            top5 = 'N/A'\n",
    "        \n",
    "\n",
    "        output = pd.concat([output, pd.DataFrame({'Similar wines found': variety, 'Top 5 common words from reviews': top5}, index=[0])], ignore_index=True)\n",
    "\n",
    "    output.set_index('Similar wines found', inplace=True)\n",
    "\n",
    "    pd.set_option('max_colwidth', 500)\n",
    "\n",
    "    return output"
   ]
  },
  {
   "cell_type": "code",
   "execution_count": 61,
   "metadata": {},
   "outputs": [
    {
     "data": {
      "text/html": [
       "<div>\n",
       "<style scoped>\n",
       "    .dataframe tbody tr th:only-of-type {\n",
       "        vertical-align: middle;\n",
       "    }\n",
       "\n",
       "    .dataframe tbody tr th {\n",
       "        vertical-align: top;\n",
       "    }\n",
       "\n",
       "    .dataframe thead th {\n",
       "        text-align: right;\n",
       "    }\n",
       "</style>\n",
       "<table border=\"1\" class=\"dataframe\">\n",
       "  <thead>\n",
       "    <tr style=\"text-align: right;\">\n",
       "      <th></th>\n",
       "      <th>Top 5 common words from reviews</th>\n",
       "    </tr>\n",
       "    <tr>\n",
       "      <th>Similar wines found</th>\n",
       "      <th></th>\n",
       "    </tr>\n",
       "  </thead>\n",
       "  <tbody>\n",
       "    <tr>\n",
       "      <th>Merlot</th>\n",
       "      <td>black cherry, fruit flavors, red fruit, medium bodied, cherry flavors</td>\n",
       "    </tr>\n",
       "    <tr>\n",
       "      <th>Grenache</th>\n",
       "      <td>fruit flavors, red fruit, white pepper, red cherry, cherry fruit</td>\n",
       "    </tr>\n",
       "    <tr>\n",
       "      <th>Cabernet Franc</th>\n",
       "      <td>cabernet franc, cab franc, black cherry, fruit flavors, red cherry</td>\n",
       "    </tr>\n",
       "  </tbody>\n",
       "</table>\n",
       "</div>"
      ],
      "text/plain": [
       "                                                           Top 5 common words from reviews\n",
       "Similar wines found                                                                       \n",
       "Merlot               black cherry, fruit flavors, red fruit, medium bodied, cherry flavors\n",
       "Grenache                  fruit flavors, red fruit, white pepper, red cherry, cherry fruit\n",
       "Cabernet Franc          cabernet franc, cab franc, black cherry, fruit flavors, red cherry"
      ]
     },
     "execution_count": 61,
     "metadata": {},
     "output_type": "execute_result"
    }
   ],
   "source": [
    "recommendations('Pinot Noir')"
   ]
  },
  {
   "cell_type": "code",
   "execution_count": 87,
   "metadata": {},
   "outputs": [
    {
     "data": {
      "image/png": "[encoded data removed]",
      "text/plain": [
       "<Figure size 1000x600 with 2 Axes>"
      ]
     },
     "metadata": {},
     "output_type": "display_data"
    }
   ],
   "source": [
    "# get cosine similarity heatmap\n",
    "import seaborn as sns\n",
    "import matplotlib.pyplot as plt\n",
    "import numpy as np \n",
    "\n",
    "mask1 = np.triu(np.ones_like(cosine_similarities[:10, :10], dtype=bool)) # mask to hide the upper triangle of the heatmap\n",
    "\n",
    "# set size \n",
    "plt.figure(figsize=(10, 6))\n",
    "\n",
    "# dark background\n",
    "plt.style.use('dark_background')\n",
    "\n",
    "# show only top half of the heatmap\n",
    "sns.heatmap(cosine_similarities[:10, :10], cmap='Blues', xticklabels=new_df['variety'][:10], yticklabels=new_df['variety'][:10], mask=mask1)\n",
    "\n",
    "plt.show()"
   ]
  }
 ],
 "metadata": {
  "kernelspec": {
   "display_name": "base",
   "language": "python",
   "name": "python3"
  },
  "language_info": {
   "codemirror_mode": {
    "name": "ipython",
    "version": 3
   },
   "file_extension": ".py",
   "mimetype": "text/x-python",
   "name": "python",
   "nbconvert_exporter": "python",
   "pygments_lexer": "ipython3",
   "version": "3.9.13"
  },
  "orig_nbformat": 4
 },
 "nbformat": 4,
 "nbformat_minor": 2
}
